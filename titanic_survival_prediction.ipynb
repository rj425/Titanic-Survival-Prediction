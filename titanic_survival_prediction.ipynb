{
 "cells": [
  {
   "cell_type": "markdown",
   "metadata": {},
   "source": [
    "# Titanic : Machine learning from Disaster\n",
    "Author - Rishabh Jain"
   ]
  },
  {
   "cell_type": "code",
   "execution_count": 1,
   "metadata": {},
   "outputs": [],
   "source": [
    "import warnings,os,math\n",
    "warnings.filterwarnings('ignore')\n",
    "import matplotlib.pyplot as plt\n",
    "%matplotlib inline\n",
    "\n",
    "import numpy as np\n",
    "import pandas as pd\n",
    "import seaborn as sns\n",
    "from tqdm import tqdm"
   ]
  },
  {
   "cell_type": "markdown",
   "metadata": {},
   "source": [
    "## Loading Train and Test set"
   ]
  },
  {
   "cell_type": "code",
   "execution_count": 2,
   "metadata": {},
   "outputs": [
    {
     "data": {
      "text/html": [
       "<div>\n",
       "<style scoped>\n",
       "    .dataframe tbody tr th:only-of-type {\n",
       "        vertical-align: middle;\n",
       "    }\n",
       "\n",
       "    .dataframe tbody tr th {\n",
       "        vertical-align: top;\n",
       "    }\n",
       "\n",
       "    .dataframe thead th {\n",
       "        text-align: right;\n",
       "    }\n",
       "</style>\n",
       "<table border=\"1\" class=\"dataframe\">\n",
       "  <thead>\n",
       "    <tr style=\"text-align: right;\">\n",
       "      <th></th>\n",
       "      <th>PassengerId</th>\n",
       "      <th>Survived</th>\n",
       "      <th>Pclass</th>\n",
       "      <th>Name</th>\n",
       "      <th>Sex</th>\n",
       "      <th>Age</th>\n",
       "      <th>SibSp</th>\n",
       "      <th>Parch</th>\n",
       "      <th>Ticket</th>\n",
       "      <th>Fare</th>\n",
       "      <th>Cabin</th>\n",
       "      <th>Embarked</th>\n",
       "    </tr>\n",
       "  </thead>\n",
       "  <tbody>\n",
       "    <tr>\n",
       "      <th>0</th>\n",
       "      <td>1</td>\n",
       "      <td>0</td>\n",
       "      <td>3</td>\n",
       "      <td>Braund, Mr. Owen Harris</td>\n",
       "      <td>male</td>\n",
       "      <td>22.0</td>\n",
       "      <td>1</td>\n",
       "      <td>0</td>\n",
       "      <td>A/5 21171</td>\n",
       "      <td>7.2500</td>\n",
       "      <td>NaN</td>\n",
       "      <td>S</td>\n",
       "    </tr>\n",
       "    <tr>\n",
       "      <th>1</th>\n",
       "      <td>2</td>\n",
       "      <td>1</td>\n",
       "      <td>1</td>\n",
       "      <td>Cumings, Mrs. John Bradley (Florence Briggs Th...</td>\n",
       "      <td>female</td>\n",
       "      <td>38.0</td>\n",
       "      <td>1</td>\n",
       "      <td>0</td>\n",
       "      <td>PC 17599</td>\n",
       "      <td>71.2833</td>\n",
       "      <td>C85</td>\n",
       "      <td>C</td>\n",
       "    </tr>\n",
       "    <tr>\n",
       "      <th>2</th>\n",
       "      <td>3</td>\n",
       "      <td>1</td>\n",
       "      <td>3</td>\n",
       "      <td>Heikkinen, Miss. Laina</td>\n",
       "      <td>female</td>\n",
       "      <td>26.0</td>\n",
       "      <td>0</td>\n",
       "      <td>0</td>\n",
       "      <td>STON/O2. 3101282</td>\n",
       "      <td>7.9250</td>\n",
       "      <td>NaN</td>\n",
       "      <td>S</td>\n",
       "    </tr>\n",
       "    <tr>\n",
       "      <th>3</th>\n",
       "      <td>4</td>\n",
       "      <td>1</td>\n",
       "      <td>1</td>\n",
       "      <td>Futrelle, Mrs. Jacques Heath (Lily May Peel)</td>\n",
       "      <td>female</td>\n",
       "      <td>35.0</td>\n",
       "      <td>1</td>\n",
       "      <td>0</td>\n",
       "      <td>113803</td>\n",
       "      <td>53.1000</td>\n",
       "      <td>C123</td>\n",
       "      <td>S</td>\n",
       "    </tr>\n",
       "    <tr>\n",
       "      <th>4</th>\n",
       "      <td>5</td>\n",
       "      <td>0</td>\n",
       "      <td>3</td>\n",
       "      <td>Allen, Mr. William Henry</td>\n",
       "      <td>male</td>\n",
       "      <td>35.0</td>\n",
       "      <td>0</td>\n",
       "      <td>0</td>\n",
       "      <td>373450</td>\n",
       "      <td>8.0500</td>\n",
       "      <td>NaN</td>\n",
       "      <td>S</td>\n",
       "    </tr>\n",
       "  </tbody>\n",
       "</table>\n",
       "</div>"
      ],
      "text/plain": [
       "   PassengerId  Survived  Pclass  \\\n",
       "0            1         0       3   \n",
       "1            2         1       1   \n",
       "2            3         1       3   \n",
       "3            4         1       1   \n",
       "4            5         0       3   \n",
       "\n",
       "                                                Name     Sex   Age  SibSp  \\\n",
       "0                            Braund, Mr. Owen Harris    male  22.0      1   \n",
       "1  Cumings, Mrs. John Bradley (Florence Briggs Th...  female  38.0      1   \n",
       "2                             Heikkinen, Miss. Laina  female  26.0      0   \n",
       "3       Futrelle, Mrs. Jacques Heath (Lily May Peel)  female  35.0      1   \n",
       "4                           Allen, Mr. William Henry    male  35.0      0   \n",
       "\n",
       "   Parch            Ticket     Fare Cabin Embarked  \n",
       "0      0         A/5 21171   7.2500   NaN        S  \n",
       "1      0          PC 17599  71.2833   C85        C  \n",
       "2      0  STON/O2. 3101282   7.9250   NaN        S  \n",
       "3      0            113803  53.1000  C123        S  \n",
       "4      0            373450   8.0500   NaN        S  "
      ]
     },
     "execution_count": 2,
     "metadata": {},
     "output_type": "execute_result"
    }
   ],
   "source": [
    "train=pd.read_csv('data/train.csv')\n",
    "test=pd.read_csv('data/test.csv')\n",
    "train.head()"
   ]
  },
  {
   "cell_type": "code",
   "execution_count": null,
   "metadata": {},
   "outputs": [],
   "source": [
    "recordId='PassengerId'\n",
    "target='Survived'\n",
    "trainId=train[recordId]\n",
    "testId=test[recordId]\n",
    "\n",
    "# Dropping **PassengerId** (unique identifier) feature from train & test set.\n",
    "train.drop(recordId,axis=1,inplace=True)\n",
    "test.drop(recordId,axis=1,inplace=True)\n",
    "\n",
    "# Checking Dataset shape\n",
    "print('Train Set\\t %d X %d'%(train.shape[0],train.shape[1]))\n",
    "print('Test Set\\t %d X %d'%(test.shape[0],test.shape[1]))"
   ]
  },
  {
   "cell_type": "markdown",
   "metadata": {},
   "source": [
    "## Data Preprocessing"
   ]
  },
  {
   "cell_type": "code",
   "execution_count": null,
   "metadata": {},
   "outputs": [],
   "source": [
    "features=['Pclass','SibSp','Parch','Sex','Embarked','Age','Fare','Survived']\n",
    "nrows=2\n",
    "ncols=int(np.ceil(len(features)/nrows))\n",
    "fig,ax=plt.subplots(nrows=nrows,ncols=ncols,figsize=(14,5))\n",
    "fig.subplots_adjust(wspace=0.4,hspace=0.4)\n",
    "for row in range(nrows):\n",
    "    for col in range(ncols):\n",
    "        feature=features[row*ncols+col]\n",
    "        if feature in ['Age','Fare']:\n",
    "            sns.violinplot(train[target],train[feature],ax=ax[row,col])\n",
    "        else:\n",
    "            sns.barplot(train[feature],train[target],ax=ax[row,col])            "
   ]
  },
  {
   "cell_type": "markdown",
   "metadata": {},
   "source": [
    "**Few observations from the plots :**\n",
    "- **Pclass -** An ordinal feature where passsenger with `Pclass=1` had higher probablitly of surviving than compared to passenger with `Pclass=3`.\n",
    "- **SibSp -** Passengers with lesser number of siblings and spouses had higher chances of surviving.\n",
    "- **Sex -** Females were more likely to survive in titanic disaster.\n",
    "- **Embarked -** Passengers who embarked at port C had higher probability than other passengers.\n",
    "- **Fare -** Passengers who paid higher fare or in other words passengers with higher socio-economic status had better better chance of survival.\n",
    "\n",
    "**Let's first concatenate the train and test set for handling missing data and feature engineering**"
   ]
  },
  {
   "cell_type": "code",
   "execution_count": null,
   "metadata": {},
   "outputs": [],
   "source": [
    "nTrain=train.shape[0]\n",
    "nTest=test.shape[0]\n",
    "trainY=train[target]\n",
    "allData=pd.concat((train,test)).reset_index(drop=True)\n",
    "allData.drop(target,axis=1,inplace=True)\n",
    "print('Train + Test Set\\t %d X %d'%(allData.shape[0],allData.shape[1]))"
   ]
  },
  {
   "cell_type": "markdown",
   "metadata": {},
   "source": [
    "### Handling Missing Data"
   ]
  },
  {
   "cell_type": "code",
   "execution_count": null,
   "metadata": {},
   "outputs": [],
   "source": [
    "count=allData.isnull().sum().sort_values(ascending=False)\n",
    "percentage=(allData.isnull().sum()/allData.isnull().count()).sort_values(ascending=False)*100\n",
    "dtypes=allData[count.index].dtypes\n",
    "missingData=pd.DataFrame({'Count':count,'Percentage':percentage,'Type':dtypes})\n",
    "missingData.drop(missingData[missingData['Count']==0].index,inplace=True)\n",
    "missingData.head(10)"
   ]
  },
  {
   "cell_type": "markdown",
   "metadata": {},
   "source": [
    "Since, **Cabin** feature is directly propotional to Socio-economic status of the passenger and contains the deck information. We will keep this feature by replacing the passengers with `Cabin=NaN` value replaced by `M`."
   ]
  },
  {
   "cell_type": "code",
   "execution_count": null,
   "metadata": {},
   "outputs": [],
   "source": [
    "idx=allData[allData['Cabin'].isnull()].index\n",
    "allData.loc[idx,'Cabin']='M'"
   ]
  },
  {
   "cell_type": "markdown",
   "metadata": {},
   "source": [
    "According to the plots above, **Survival** of the passenger is not affected much by the age. We are going to drop this feature."
   ]
  },
  {
   "cell_type": "code",
   "execution_count": null,
   "metadata": {},
   "outputs": [],
   "source": [
    "allData.drop(columns=['Age'],inplace=True)"
   ]
  },
  {
   "cell_type": "markdown",
   "metadata": {},
   "source": [
    "After, looking at the names of the passenger with their embarkement port missing on internet, we can conclude that :\n",
    "- Icard, Miss. Amelie embarked for Southampton ([source](https://www.encyclopedia-titanica.org/titanic-survivor/)).\n",
    "- Martha Evelyn emabarked for Southampton ([source](https://www.encyclopedia-titanica.org/titanic-survivor/martha-evelyn-stone.html))."
   ]
  },
  {
   "cell_type": "code",
   "execution_count": null,
   "metadata": {},
   "outputs": [],
   "source": [
    "allData[allData['Embarked'].isnull()]"
   ]
  },
  {
   "cell_type": "code",
   "execution_count": null,
   "metadata": {},
   "outputs": [],
   "source": [
    "idx=allData[allData['Embarked'].isnull()].index\n",
    "allData.loc[idx,'Embarked']='S'"
   ]
  },
  {
   "cell_type": "markdown",
   "metadata": {},
   "source": [
    "Only one passenger is there with fare missing. We will deal with this by following these steps :\n",
    "- First identify if this passenger is from train or test set using passenger name.\n",
    "- Replace the fare value with the mean fare of passengers with `Pclass=3`,`Sex=male` and `Embarked=S` in train/test set."
   ]
  },
  {
   "cell_type": "code",
   "execution_count": null,
   "metadata": {},
   "outputs": [],
   "source": [
    "allData[allData['Fare'].isnull()]"
   ]
  },
  {
   "cell_type": "code",
   "execution_count": null,
   "metadata": {},
   "outputs": [],
   "source": [
    "name=allData[allData['Fare'].isnull()].Name.values[0]\n",
    "dataset=train if name in train['Name'].tolist() else test\n",
    "groups=dataset.groupby(['Pclass','Sex','Embarked'])['Fare'].mean().to_frame('Mean Fare')\n",
    "groups"
   ]
  },
  {
   "cell_type": "code",
   "execution_count": null,
   "metadata": {},
   "outputs": [],
   "source": [
    "idx=allData[allData['Fare'].isnull()].index\n",
    "allData.loc[idx,'Fare']=groups.loc[3,'male','S'].values[0]"
   ]
  },
  {
   "cell_type": "markdown",
   "metadata": {},
   "source": [
    "Verifying if the all the missing values are dealt with."
   ]
  },
  {
   "cell_type": "code",
   "execution_count": null,
   "metadata": {},
   "outputs": [],
   "source": [
    "count=allData.isnull().sum().sort_values(ascending=False).to_frame(name='count')\n",
    "count"
   ]
  },
  {
   "cell_type": "markdown",
   "metadata": {},
   "source": [
    "### Feature Engineering\n",
    "Here, we are going to create few new features :\n",
    "\n",
    "- **FamilySize -** Created by adding **SibSp** and **Parch** variables with 1.\n",
    "- **IsAlone -** Binary feature will be created by setting its value to 1 if **FamilySize** is 1 otherwise 0 value will be set.\n",
    "- **Title -** Extracted by the **Name** feature. Moreover, all the Titles whose occurrences is less than 10 are replaced with **'Misc'**.\n",
    "- **Deck -** Extracted by the **Cabin** feature.\n",
    "\n",
    "After the new features are derived, **Name**,**Cabin** and **Ticket** features will be dropped from the dataframe."
   ]
  },
  {
   "cell_type": "code",
   "execution_count": null,
   "metadata": {},
   "outputs": [],
   "source": [
    "# FamilySize\n",
    "allData['FamilySize']=allData['SibSp']+allData['Parch']+1\n",
    "# IsAlone\n",
    "allData['IsAlone']=None\n",
    "idx=allData[allData['FamilySize']==1].index\n",
    "allData.loc[idx,'IsAlone']=1\n",
    "idx=allData[allData['FamilySize']>1].index\n",
    "allData.loc[idx,'IsAlone']=0\n",
    "# Title\n",
    "allData['Title']=allData['Name'].str.extract(\" ([A-Za-z]+)\\.\")\n",
    "titleNames=(allData['Title'].value_counts()<10)\n",
    "allData['Title']=allData['Title'].apply(lambda title: 'Misc' if titleNames.loc[title]==True else title)\n",
    "# Deck\n",
    "allData['Deck']=allData['Cabin'].str[0]\n",
    "# Dropping Name, Cabin and Ticket feature\n",
    "allData.drop(columns=['Name','Cabin','Ticket'],inplace=True)"
   ]
  },
  {
   "cell_type": "code",
   "execution_count": null,
   "metadata": {},
   "outputs": [],
   "source": [
    "allData.head()"
   ]
  },
  {
   "cell_type": "markdown",
   "metadata": {},
   "source": [
    "**Let's take a look at how our new features effect the survival of a passenger in training set.**"
   ]
  },
  {
   "cell_type": "code",
   "execution_count": null,
   "metadata": {},
   "outputs": [],
   "source": [
    "_train=allData[:nTrain]\n",
    "features=['FamilySize','IsAlone','Title','Deck']\n",
    "nrows=1\n",
    "ncols=int(np.ceil(len(features)/nrows))\n",
    "fig,ax=plt.subplots(nrows=nrows,ncols=ncols,figsize=(14,2.5))\n",
    "fig.subplots_adjust(wspace=0.4,hspace=0.4)\n",
    "for col in range(ncols):\n",
    "    feature=features[col]\n",
    "    if feature is not 'Deck':\n",
    "        sns.barplot(_train[feature],trainY,ax=ax[col])\n",
    "    else:\n",
    "        sns.barplot(_train[feature],trainY,ax=ax[col],order=['A','B','C','D','E','F','G','M','T'])"
   ]
  },
  {
   "cell_type": "markdown",
   "metadata": {},
   "source": [
    "**It's important to understand if the Cabin/Deck are assigned to passengers based on socio-economic status.**<br><br>\n",
    "<img src=\"images/Titanic_side_plan.png\" style=\"width:700px;\">"
   ]
  },
  {
   "cell_type": "code",
   "execution_count": null,
   "metadata": {
    "scrolled": false
   },
   "outputs": [],
   "source": [
    "_train.groupby(['Deck','Pclass']).size().to_frame(name='Passenger Count')"
   ]
  },
  {
   "cell_type": "markdown",
   "metadata": {},
   "source": [
    "From the table above, we can clearly conclude few things :\n",
    "- Deck A,B,C and T were only reserved for passenger with `Pclass=1` and will be replaced by 'ABC'.\n",
    "- Deck D & E were reserved for passengers with `Pclass=1,2,3` and will be replaced by 'DE'.\n",
    "- Deck F & G were reserved for passengers with `Pclass=2,3` and will be replace by 'FG'.\n",
    "- Deck M is just a placeholder values for passengers with no cabins.\n",
    "\n",
    "This way, we will have reduced the cardinality of deck feature from 9 to 4."
   ]
  },
  {
   "cell_type": "code",
   "execution_count": null,
   "metadata": {},
   "outputs": [],
   "source": [
    "allData['Deck']=allData['Deck'].replace(['A','B','C','T'],'ABC')\n",
    "allData['Deck']=allData['Deck'].replace(['D','E'],'DE')\n",
    "allData['Deck']=allData['Deck'].replace(['F','G'],'FG')\n",
    "allData['Deck'].value_counts()"
   ]
  },
  {
   "cell_type": "code",
   "execution_count": null,
   "metadata": {},
   "outputs": [],
   "source": [
    "fig,ax=plt.subplots(figsize=(5,4))\n",
    "corrMat=allData.corr()\n",
    "sns.heatmap(corrMat,annot=True)"
   ]
  },
  {
   "cell_type": "markdown",
   "metadata": {},
   "source": [
    "**Converting Categorical variables into Dummy variables**"
   ]
  },
  {
   "cell_type": "code",
   "execution_count": null,
   "metadata": {},
   "outputs": [],
   "source": [
    "allData=pd.get_dummies(allData)\n",
    "print('Train + Test Set\\t %d X %d'%(allData.shape[0],allData.shape[1]))\n",
    "allData.sample(5)"
   ]
  },
  {
   "cell_type": "markdown",
   "metadata": {},
   "source": [
    "**Splitting dataset back to training and test set**"
   ]
  },
  {
   "cell_type": "code",
   "execution_count": null,
   "metadata": {},
   "outputs": [],
   "source": [
    "trainX=allData[:nTrain]\n",
    "testX=allData[nTrain:]"
   ]
  },
  {
   "cell_type": "markdown",
   "metadata": {},
   "source": [
    "## Modelling\n",
    "Train Validation Split on Training Data (for Cross Validation)"
   ]
  },
  {
   "cell_type": "code",
   "execution_count": null,
   "metadata": {},
   "outputs": [],
   "source": [
    "from sklearn.model_selection import train_test_split\n",
    "from sklearn.tree import DecisionTreeClassifier\n",
    "from sklearn.ensemble import RandomForestClassifier\n",
    "\n",
    "# Splitting training set further into training and validation set\n",
    "subTrainX,valX,subTrainY,valY=train_test_split(trainX,trainY,test_size=0.2,random_state=42)"
   ]
  },
  {
   "cell_type": "code",
   "execution_count": null,
   "metadata": {},
   "outputs": [],
   "source": []
  },
  {
   "cell_type": "code",
   "execution_count": null,
   "metadata": {},
   "outputs": [],
   "source": []
  },
  {
   "cell_type": "code",
   "execution_count": null,
   "metadata": {},
   "outputs": [],
   "source": []
  }
 ],
 "metadata": {
  "kernelspec": {
   "display_name": "Python 3",
   "language": "python",
   "name": "python3"
  },
  "language_info": {
   "codemirror_mode": {
    "name": "ipython",
    "version": 3
   },
   "file_extension": ".py",
   "mimetype": "text/x-python",
   "name": "python",
   "nbconvert_exporter": "python",
   "pygments_lexer": "ipython3",
   "version": "3.7.6"
  }
 },
 "nbformat": 4,
 "nbformat_minor": 2
}
